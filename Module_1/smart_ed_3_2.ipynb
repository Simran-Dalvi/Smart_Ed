{
  "nbformat": 4,
  "nbformat_minor": 0,
  "metadata": {
    "colab": {
      "provenance": []
    },
    "kernelspec": {
      "name": "python3",
      "display_name": "Python 3"
    },
    "language_info": {
      "name": "python"
    }
  },
  "cells": [
    {
      "cell_type": "code",
      "source": [
        "import random"
      ],
      "metadata": {
        "id": "rxWHGLjFo6ts"
      },
      "execution_count": 1,
      "outputs": []
    },
    {
      "cell_type": "code",
      "source": [
        "class Environment:\n",
        "  def __init__(self):\n",
        "    self.locations={\n",
        "        'A': random.choice(['Clean','Dirty']),\n",
        "        'B': random.choice(['Clean','Dirty'])\n",
        "    }\n",
        "    self.agent_location=random.choice(['A',\"B\"])\n",
        "\n",
        "\n",
        "  def status(self,location):\n",
        "    return self.locations[location]\n",
        "\n",
        "  def clean(self,location):\n",
        "    self.locations[location]= 'Clean'\n",
        "\n",
        "  def move_agent(self,location):\n",
        "    self.agent_location=location\n",
        "\n",
        "  def is_done(self):\n",
        "    return all(status=='Clean' for status in self.locations.values())\n",
        "\n",
        "  def show(self):\n",
        "    print(f\"Agent location: {self.agent_location}\")\n",
        "    print(f\"Room Status: {self.locations}\")"
      ],
      "metadata": {
        "id": "Zqq4NFSPquZj"
      },
      "execution_count": 2,
      "outputs": []
    },
    {
      "cell_type": "markdown",
      "source": [
        "\n",
        "\n",
        "```\n",
        "The all() function checks whether all elements in an iterable are True. It does not change anything.\n",
        "```\n",
        "\n"
      ],
      "metadata": {
        "id": "Ay5ILwaZL47T"
      }
    },
    {
      "cell_type": "code",
      "source": [
        "class ReflexVacuumAgent:\n",
        "  def __init__(self,Environment):\n",
        "    self.env = Environment\n",
        "    self.steps= 0\n",
        "\n",
        "  def perceive_and_act(self):\n",
        "    location=self.env.agent_location\n",
        "    status=self.env.status(location)\n",
        "\n",
        "    print(f\"Perceived {location} is {status}\")\n",
        "\n",
        "    if status == 'Dirty':\n",
        "      print (\"Action=CLEAN\")\n",
        "      self.env.clean(location)\n",
        "\n",
        "    else:\n",
        "      next_location='B' if location== 'A' else 'A'\n",
        "      print(f\"Action= MOVE to {next_location}\")\n",
        "      self.env.move_agent(location)\n",
        "      self.env.clean(next_location)\n",
        "\n",
        "    self.steps += 1\n",
        "    self.env.show()\n",
        "    print(\"_\" * 10)\n",
        "\n",
        "\n",
        "  def run(self,max_steps=10):\n",
        "    print(\"Initial Environment:\")\n",
        "    self.env.show()\n",
        "    print(\"_\" * 10)\n",
        "\n",
        "    while not self.env.is_done() and self.steps < max_steps:\n",
        "      self.perceive_and_act()"
      ],
      "metadata": {
        "id": "gylmVn-oAmtM"
      },
      "execution_count": 3,
      "outputs": []
    },
    {
      "cell_type": "markdown",
      "source": [
        "\n",
        "```\n",
        "Python has an order of operations, like in math. The general order for Boolean logic is:\n",
        "\n",
        ". not happens first\n",
        ". then and\n",
        ". then or\n",
        "```\n",
        "\n"
      ],
      "metadata": {
        "id": "AEiU0EyBLcxF"
      }
    },
    {
      "cell_type": "code",
      "source": [
        "env=Environment()\n",
        "Vacuume_Cleaner=ReflexVacuumAgent(env)"
      ],
      "metadata": {
        "id": "VGwnDIjpDeDs"
      },
      "execution_count": 4,
      "outputs": []
    },
    {
      "cell_type": "code",
      "source": [
        "Vacuume_Cleaner.run()"
      ],
      "metadata": {
        "colab": {
          "base_uri": "https://localhost:8080/"
        },
        "id": "mtGpLNJsDtlR",
        "outputId": "b5ac98eb-ea69-40c7-a09f-0534830b7808"
      },
      "execution_count": 5,
      "outputs": [
        {
          "output_type": "stream",
          "name": "stdout",
          "text": [
            "Initial Environment:\n",
            "Agent location: B\n",
            "Room Status: {'A': 'Dirty', 'B': 'Clean'}\n",
            "__________\n",
            "Perceived B is Clean\n",
            "Action= MOVE to A\n",
            "Agent location: B\n",
            "Room Status: {'A': 'Clean', 'B': 'Clean'}\n",
            "__________\n"
          ]
        }
      ]
    }
  ]
}