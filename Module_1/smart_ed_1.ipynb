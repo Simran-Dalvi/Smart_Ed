{
  "nbformat": 4,
  "nbformat_minor": 0,
  "metadata": {
    "colab": {
      "provenance": []
    },
    "kernelspec": {
      "name": "python3",
      "display_name": "Python 3"
    },
    "language_info": {
      "name": "python"
    }
  },
  "cells": [
    {
      "cell_type": "markdown",
      "source": [
        "variables"
      ],
      "metadata": {
        "id": "YS3-Yz73tDm_"
      }
    },
    {
      "cell_type": "code",
      "execution_count": 1,
      "metadata": {
        "id": "5IOFp5KIsSR4"
      },
      "outputs": [],
      "source": [
        "r=10"
      ]
    },
    {
      "cell_type": "code",
      "source": [
        "print(r)"
      ],
      "metadata": {
        "colab": {
          "base_uri": "https://localhost:8080/"
        },
        "id": "zPy_dbpYshNc",
        "outputId": "ee9a918f-3171-442a-d992-385748d3983f"
      },
      "execution_count": 2,
      "outputs": [
        {
          "output_type": "stream",
          "name": "stdout",
          "text": [
            "10\n"
          ]
        }
      ]
    },
    {
      "cell_type": "code",
      "source": [
        "age=10\n",
        "name='simran'\n",
        "experience=2.5\n",
        "emp=True"
      ],
      "metadata": {
        "id": "ZMN0QgJQsieE"
      },
      "execution_count": 3,
      "outputs": []
    },
    {
      "cell_type": "code",
      "source": [
        "print(name,age,experience,emp)"
      ],
      "metadata": {
        "colab": {
          "base_uri": "https://localhost:8080/"
        },
        "id": "9QBJa2kRsuvV",
        "outputId": "b791855c-bd89-4647-8beb-2a2881cd5f39"
      },
      "execution_count": 5,
      "outputs": [
        {
          "output_type": "stream",
          "name": "stdout",
          "text": [
            "simran 10 2.5 True\n"
          ]
        }
      ]
    },
    {
      "cell_type": "code",
      "source": [
        "print(type(name))\n",
        "print(type(age))\n",
        "print(type(experience))\n",
        "print(type(emp))"
      ],
      "metadata": {
        "colab": {
          "base_uri": "https://localhost:8080/"
        },
        "id": "_j5pDIVps1vN",
        "outputId": "68159cf7-dc7e-4908-f889-c3239eeb5523"
      },
      "execution_count": 6,
      "outputs": [
        {
          "output_type": "stream",
          "name": "stdout",
          "text": [
            "<class 'str'>\n",
            "<class 'int'>\n",
            "<class 'float'>\n",
            "<class 'bool'>\n"
          ]
        }
      ]
    },
    {
      "cell_type": "markdown",
      "source": [
        "control structures"
      ],
      "metadata": {
        "id": "bApaqXGxtIAF"
      }
    },
    {
      "cell_type": "code",
      "source": [
        "#for loop\n",
        "for i in range(10):\n",
        "  print(i)"
      ],
      "metadata": {
        "colab": {
          "base_uri": "https://localhost:8080/"
        },
        "id": "2XLSLVWjs-St",
        "outputId": "1ca36979-1ec9-4927-e576-03fecb866297"
      },
      "execution_count": 7,
      "outputs": [
        {
          "output_type": "stream",
          "name": "stdout",
          "text": [
            "0\n",
            "1\n",
            "2\n",
            "3\n",
            "4\n",
            "5\n",
            "6\n",
            "7\n",
            "8\n",
            "9\n"
          ]
        }
      ]
    },
    {
      "cell_type": "code",
      "source": [
        "for i in range(8,10):\n",
        "  print(i)"
      ],
      "metadata": {
        "colab": {
          "base_uri": "https://localhost:8080/"
        },
        "id": "R82vFPrGtWB1",
        "outputId": "815e3e30-8cb4-4a52-cf84-a1ee9d56ce53"
      },
      "execution_count": 9,
      "outputs": [
        {
          "output_type": "stream",
          "name": "stdout",
          "text": [
            "8\n",
            "9\n"
          ]
        }
      ]
    },
    {
      "cell_type": "code",
      "source": [
        "#while loops\n",
        "i=15\n",
        "while i>=10:\n",
        "  print(i)\n",
        "  i = i-1"
      ],
      "metadata": {
        "colab": {
          "base_uri": "https://localhost:8080/"
        },
        "id": "IiglJPp-tfWj",
        "outputId": "299d378c-2a3e-4863-f298-7e1392bfbeb3"
      },
      "execution_count": 12,
      "outputs": [
        {
          "output_type": "stream",
          "name": "stdout",
          "text": [
            "15\n",
            "14\n",
            "13\n",
            "12\n",
            "11\n",
            "10\n"
          ]
        }
      ]
    },
    {
      "cell_type": "code",
      "source": [
        "#if conditions\n",
        "i=20\n",
        "if(i ==10):\n",
        "  print('Yes')\n",
        "else:\n",
        "  print('No')"
      ],
      "metadata": {
        "colab": {
          "base_uri": "https://localhost:8080/"
        },
        "id": "O_gP797ctvbR",
        "outputId": "9f72188b-374a-4060-8992-dc10946fc498"
      },
      "execution_count": 18,
      "outputs": [
        {
          "output_type": "stream",
          "name": "stdout",
          "text": [
            "No\n"
          ]
        }
      ]
    },
    {
      "cell_type": "markdown",
      "source": [
        "Data Structure\n",
        "\n",
        "* List ordered collection\n",
        "* Tuples immutable\n",
        "* Sets only contain hashable items\n",
        "* Dictionaries are key value pairs\n",
        "\n"
      ],
      "metadata": {
        "id": "ca-kXHQovLnN"
      }
    },
    {
      "cell_type": "code",
      "source": [
        "list =[1,2.5,'list']\n",
        "list"
      ],
      "metadata": {
        "colab": {
          "base_uri": "https://localhost:8080/"
        },
        "id": "1Cyb8YUyuJ4l",
        "outputId": "4b72f524-4ca3-443f-9339-d8c4a6fc2d3f"
      },
      "execution_count": 19,
      "outputs": [
        {
          "output_type": "execute_result",
          "data": {
            "text/plain": [
              "[1, 2.5, 'list']"
            ]
          },
          "metadata": {},
          "execution_count": 19
        }
      ]
    },
    {
      "cell_type": "code",
      "source": [
        "list.append(14)"
      ],
      "metadata": {
        "id": "coVvjHXbv_Vv"
      },
      "execution_count": 20,
      "outputs": []
    },
    {
      "cell_type": "code",
      "source": [
        "list"
      ],
      "metadata": {
        "colab": {
          "base_uri": "https://localhost:8080/"
        },
        "id": "jSyHl-g_wDa1",
        "outputId": "b60432ca-b77e-486f-d849-dc4be69dc4ca"
      },
      "execution_count": 21,
      "outputs": [
        {
          "output_type": "execute_result",
          "data": {
            "text/plain": [
              "[1, 2.5, 'list', 14]"
            ]
          },
          "metadata": {},
          "execution_count": 21
        }
      ]
    },
    {
      "cell_type": "code",
      "source": [
        "#tuple\n",
        "tuple1=(1,2.5,'tuple')\n",
        "tuple1"
      ],
      "metadata": {
        "colab": {
          "base_uri": "https://localhost:8080/"
        },
        "id": "AfBlynOfwEoS",
        "outputId": "7ed9b8ef-a88f-4681-f416-24a8ae70d077"
      },
      "execution_count": 22,
      "outputs": [
        {
          "output_type": "execute_result",
          "data": {
            "text/plain": [
              "(1, 2.5, 'tuple')"
            ]
          },
          "metadata": {},
          "execution_count": 22
        }
      ]
    },
    {
      "cell_type": "code",
      "source": [
        "tuple1.append(16)"
      ],
      "metadata": {
        "colab": {
          "base_uri": "https://localhost:8080/",
          "height": 141
        },
        "id": "yrgMfF1ewMSY",
        "outputId": "f1407cba-e6d3-41c8-c7c5-e2e4735ef45d"
      },
      "execution_count": 23,
      "outputs": [
        {
          "output_type": "error",
          "ename": "AttributeError",
          "evalue": "'tuple' object has no attribute 'append'",
          "traceback": [
            "\u001b[0;31m---------------------------------------------------------------------------\u001b[0m",
            "\u001b[0;31mAttributeError\u001b[0m                            Traceback (most recent call last)",
            "\u001b[0;32m<ipython-input-23-1985217777>\u001b[0m in \u001b[0;36m<cell line: 0>\u001b[0;34m()\u001b[0m\n\u001b[0;32m----> 1\u001b[0;31m \u001b[0mtuple1\u001b[0m\u001b[0;34m.\u001b[0m\u001b[0mappend\u001b[0m\u001b[0;34m(\u001b[0m\u001b[0;36m16\u001b[0m\u001b[0;34m)\u001b[0m\u001b[0;34m\u001b[0m\u001b[0;34m\u001b[0m\u001b[0m\n\u001b[0m",
            "\u001b[0;31mAttributeError\u001b[0m: 'tuple' object has no attribute 'append'"
          ]
        }
      ]
    },
    {
      "cell_type": "code",
      "source": [
        "#dictionaries\n",
        "dict1={\"name\":\"simran\",\"age\":10}\n",
        "dict1"
      ],
      "metadata": {
        "colab": {
          "base_uri": "https://localhost:8080/"
        },
        "id": "zmFnRLDAwQev",
        "outputId": "100ca0e1-2e33-43da-bcfc-b9c0dc245830"
      },
      "execution_count": 25,
      "outputs": [
        {
          "output_type": "execute_result",
          "data": {
            "text/plain": [
              "{'name': 'simran', 'age': 10}"
            ]
          },
          "metadata": {},
          "execution_count": 25
        }
      ]
    },
    {
      "cell_type": "code",
      "source": [
        "dict1[\"proffesion\"]=\"jobless\"\n",
        "dict1"
      ],
      "metadata": {
        "colab": {
          "base_uri": "https://localhost:8080/"
        },
        "id": "5Zsr07oYwfyj",
        "outputId": "21324d82-b138-4b59-fb14-be6bcd705c1e"
      },
      "execution_count": 26,
      "outputs": [
        {
          "output_type": "execute_result",
          "data": {
            "text/plain": [
              "{'name': 'simran', 'age': 10, 'proffesion': 'jobless'}"
            ]
          },
          "metadata": {},
          "execution_count": 26
        }
      ]
    },
    {
      "cell_type": "markdown",
      "source": [
        "classes and functions"
      ],
      "metadata": {
        "id": "vU7oz3ewwx8M"
      }
    },
    {
      "cell_type": "code",
      "source": [
        "#functions\n",
        "def func1(name):\n",
        "  print(f\"Welcome to {name}\")\n",
        "\n",
        "\n",
        "func1('SmartEd')"
      ],
      "metadata": {
        "colab": {
          "base_uri": "https://localhost:8080/"
        },
        "id": "r7pti_23wyu0",
        "outputId": "926a26be-04cc-4594-ad37-2a62aebfcc24"
      },
      "execution_count": 27,
      "outputs": [
        {
          "output_type": "stream",
          "name": "stdout",
          "text": [
            "Welcome to SmartEd\n"
          ]
        }
      ]
    },
    {
      "cell_type": "code",
      "source": [
        "#class\n",
        "class Demo:\n",
        "  def __init__(self,name):\n",
        "    self.name=name\n",
        "  def func2(self):\n",
        "    print(f\"Welcome to {self.name}\")\n",
        "\n",
        "obj=Demo('SmartEd')\n",
        "obj.func2()"
      ],
      "metadata": {
        "colab": {
          "base_uri": "https://localhost:8080/"
        },
        "id": "cJqcJzOowuq-",
        "outputId": "ad9a2225-0fa4-4217-9510-1b0afad0d095"
      },
      "execution_count": 30,
      "outputs": [
        {
          "output_type": "stream",
          "name": "stdout",
          "text": [
            "Welcome to SmartEd\n"
          ]
        }
      ]
    },
    {
      "cell_type": "markdown",
      "source": [
        "calculator"
      ],
      "metadata": {
        "id": "8MTyjUouyImq"
      }
    },
    {
      "cell_type": "code",
      "source": [
        "class calc:\n",
        "  def __init__(self):\n",
        "    self.value1=0\n",
        "    self.value2=0\n",
        "  def get_input(self):\n",
        "    while True:\n",
        "      try:\n",
        "        self.value1 = float(input(\"Enter first number: \"))\n",
        "        self.value2 = float(input(\"Enter second number: \"))\n",
        "        return\n",
        "      except ValueError:\n",
        "        print(\"please Enter a VALID number\")\n",
        "  def add(self):\n",
        "    return self.value1 + self.value2\n",
        "  def sub(self):\n",
        "    return self.value1 - self.value2\n",
        "  def mul(self):\n",
        "    return self.value1 * self.value2\n",
        "  def div(self):\n",
        "    try:\n",
        "      return self.value1 / self.value2\n",
        "    except ZeroDivisionError:\n",
        "       return \"You cant do that\"\n",
        "\n"
      ],
      "metadata": {
        "id": "sV6aa9uox2gT"
      },
      "execution_count": 35,
      "outputs": []
    },
    {
      "cell_type": "code",
      "source": [
        "first_try =calc()\n",
        "first_try.get_input()\n",
        "\n",
        "print(f\"Addition: {first_try.add()}\")\n",
        "print(f\"Subtraction: {first_try.sub()}\")\n",
        "print(f\"Multiplication: {first_try.mul()}\")\n",
        "print(f\"Division: {first_try.div()}\")"
      ],
      "metadata": {
        "colab": {
          "base_uri": "https://localhost:8080/"
        },
        "id": "OjRKK3jD0eF4",
        "outputId": "72ee04ea-dcdb-4232-f90b-36540c42d6e3"
      },
      "execution_count": 38,
      "outputs": [
        {
          "output_type": "stream",
          "name": "stdout",
          "text": [
            "Enter first number: 35\n",
            "Enter second number: 20\n",
            "Addition: 55.0\n",
            "Subtraction: 15.0\n",
            "Multiplication: 700.0\n",
            "Division: 1.75\n"
          ]
        }
      ]
    },
    {
      "cell_type": "code",
      "source": [
        "cal = calc()\n",
        "\n",
        "while True:\n",
        "  print(\"select an option:\")\n",
        "  print(\"1 for addition\")\n",
        "  print(\"2 for subtraction\")\n",
        "  print(\"3 for multiplication\")\n",
        "  print(\"4 for division\")\n",
        "\n",
        "\n",
        "  choice = input(\"Enter your choice: \")\n",
        "\n",
        "  if choice in ('1','2','3','4'):\n",
        "    cal.get_input()\n",
        "    if choice == '1':\n",
        "      result = cal.add()\n",
        "      print(\"Addition:\",result)\n",
        "    elif choice == '2':\n",
        "      result = cal.sub()\n",
        "      print(\"Subtraction:\",result)\n",
        "    elif choice == '3':\n",
        "      result = cal.mul()\n",
        "      print(\"Multiplication:\",result)\n",
        "    elif choice == '4':\n",
        "      result = cal.div()\n",
        "      print(\"Division:\",result)\n",
        "    else:\n",
        "      print(\"invalid input\")\n",
        "\n",
        "  new_cal=input('Do you want to do another calculation? (Yes/No):')\n",
        "  if new_cal.lower() != 'yes':\n",
        "    break"
      ],
      "metadata": {
        "colab": {
          "base_uri": "https://localhost:8080/"
        },
        "id": "Gg2AEXrpznim",
        "outputId": "a308f6a1-6f7f-4d6c-beb1-39c2a28b34ba"
      },
      "execution_count": 45,
      "outputs": [
        {
          "name": "stdout",
          "output_type": "stream",
          "text": [
            "select an option:\n",
            "1 for addition\n",
            "2 for subtraction\n",
            "3 for multiplication\n",
            "4 for division\n",
            "Enter your choice: 4\n",
            "Enter first number: 6\n",
            "Enter second number: 3\n",
            "Division: 2.0\n",
            "Do you want to do another calculation? (Yes/No):no\n"
          ]
        }
      ]
    }
  ]
}