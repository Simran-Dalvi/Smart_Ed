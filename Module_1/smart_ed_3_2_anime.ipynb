{
  "cells": [
    {
      "cell_type": "code",
      "execution_count": 1,
      "metadata": {
        "id": "WbedRNUYMQjR"
      },
      "outputs": [],
      "source": [
        "import tkinter as tk\n",
        "import random\n",
        "import time"
      ]
    },
    {
      "cell_type": "code",
      "execution_count": 2,
      "metadata": {
        "id": "dQXYVJ7fMaPD"
      },
      "outputs": [],
      "source": [
        "class Environment:\n",
        "  def __init__(self):\n",
        "    self.locations={\n",
        "        'A' : random.choices(['Clean','Dirty']),\n",
        "        'B' : random.choices(['Clean','Dirty'])\n",
        "    }\n",
        "    self.agent_location = random.choice(['A','B'])\n",
        "\n",
        "  def status(self, location):\n",
        "    return self.locations[location]\n",
        "\n",
        "  def clean(self,location):\n",
        "    self.locations[location] = 'Clean'\n",
        "\n",
        "  def move_agent(self,location):\n",
        "    self.agent_location = location\n",
        "\n",
        "  def is_done(self):\n",
        "    return all(status == 'Clean' for status in self.locations.values())"
      ]
    },
    {
      "cell_type": "markdown",
      "metadata": {
        "id": "u-W5KQxEOLmd"
      },
      "source": [
        "```super()``` is a built-in function used to give you access to methods from a parent or superclass. It’s commonly used in class inheritance, especially when overriding methods like __init__() in a subclass.\n",
        "\n",
        "* super().__init__() calls the __init__() method of tk.Tk — the parent class — to properly initialize the GUI window."
      ]
    },
    {
      "cell_type": "code",
      "execution_count": 3,
      "metadata": {
        "id": "Y6r57t6VO_QM"
      },
      "outputs": [],
      "source": [
        "class VacuumGUI(tk.Tk):\n",
        "    def __init__(self, env):\n",
        "        super().__init__()\n",
        "        self.title(\"Vacuum Cleaner Agent\")\n",
        "        self.geometry(\"400x250\")\n",
        "        self.env = env\n",
        "        self.agent = ReflexVacuumAgent(env, self)\n",
        "        self.canvas = tk.Canvas(self, width=400, height=200, bg='black')\n",
        "        self.canvas.pack()\n",
        "\n",
        "        self.status_label = tk.Label(self, text=\"\", font=(\"Arial\", 16))\n",
        "        self.status_label.pack()\n",
        "\n",
        "        self.draw_rooms()\n",
        "        self.after(1000, self.agent.run_step)\n",
        "\n",
        "    def draw_rooms(self):\n",
        "        # Room A\n",
        "        self.canvas.create_rectangle(50, 50, 150, 150, fill='lightgray', tags=\"roomA\")\n",
        "        self.canvas.create_text(100, 40, text=\"Room A\", font=(\"Arial\", 12))\n",
        "\n",
        "        # Room B\n",
        "        self.canvas.create_rectangle(250, 50, 350, 150, fill='lightgray', tags=\"roomB\")\n",
        "        self.canvas.create_text(300, 40, text=\"Room B\", font=(\"Arial\", 12))\n",
        "\n",
        "        # Draw agent\n",
        "        self.agent_icon = self.canvas.create_oval(0, 0, 30, 30, fill=\"blue\", tags=\"agent\")\n",
        "\n",
        "        self.update_gui()\n",
        "\n",
        "    def update_gui(self):\n",
        "        # Update room colors based on cleanliness\n",
        "        colorA = 'green' if self.env.status('A') == 'Clean' else 'red'\n",
        "        colorB = 'green' if self.env.status('B') == 'Clean' else 'red'\n",
        "        self.canvas.itemconfig(\"roomA\", fill=colorA)\n",
        "        self.canvas.itemconfig(\"roomB\", fill=colorB)\n",
        "\n",
        "        # Update agent position\n",
        "        if self.env.agent_location == 'A':\n",
        "            self.canvas.coords(\"agent\", 90, 90, 120, 120)\n",
        "        else:\n",
        "            self.canvas.coords(\"agent\", 290, 90, 320, 120)\n",
        "\n",
        "        # Update status label\n",
        "        self.status_label.config(text=f\"Room A: {self.env.status('A')} | Room B: {self.env.status('B')} | Agent: {self.env.agent_location}\")\n",
        "\n",
        "\n"
      ]
    },
    {
      "cell_type": "code",
      "execution_count": 4,
      "metadata": {
        "id": "DPcWJIbfPd_I"
      },
      "outputs": [],
      "source": [
        "class ReflexVacuumAgent:\n",
        "    def __init__(self, environment, gui):\n",
        "        self.env = environment\n",
        "        self.gui = gui\n",
        "        self.steps = 0\n",
        "\n",
        "    def run_step(self):\n",
        "        if self.env.is_done() or self.steps >= 10:\n",
        "            self.gui.status_label.config(text=\"Cleaning Complete!\")\n",
        "            return\n",
        "\n",
        "        loc = self.env.agent_location\n",
        "        status = self.env.status(loc)\n",
        "\n",
        "        if status == 'Dirty':\n",
        "            self.env.clean(loc)\n",
        "        else:\n",
        "            new_loc = 'B' if loc == 'A' else 'A'\n",
        "            self.env.move_agent(new_loc)\n",
        "            self.env.clean(new_loc)\n",
        "\n",
        "        self.steps += 1\n",
        "        self.gui.update_gui()\n",
        "        self.gui.after(1000, self.run_step)"
      ]
    },
    {
      "cell_type": "code",
      "execution_count": 6,
      "metadata": {
        "colab": {
          "base_uri": "https://localhost:8080/",
          "height": 356
        },
        "id": "nnQjNPrMP3nc",
        "outputId": "d11820fd-17e7-474e-b3c1-dbc3451a3966"
      },
      "outputs": [],
      "source": [
        "if __name__ == \"__main__\":\n",
        "    env = Environment()\n",
        "    app = VacuumGUI(env)\n",
        "    app.mainloop()"
      ]
    },
    {
      "cell_type": "markdown",
      "metadata": {},
      "source": [
        "```\n",
        "The Jupyter kernel inside VS Code isn't ideal for running GUI apps like Tkinter — it’s meant for notebook-style output, not interactive windows.\n",
        "```"
      ]
    }
  ],
  "metadata": {
    "colab": {
      "provenance": []
    },
    "kernelspec": {
      "display_name": "Python 3",
      "language": "python",
      "name": "python3"
    },
    "language_info": {
      "codemirror_mode": {
        "name": "ipython",
        "version": 3
      },
      "file_extension": ".py",
      "mimetype": "text/x-python",
      "name": "python",
      "nbconvert_exporter": "python",
      "pygments_lexer": "ipython3",
      "version": "3.13.1"
    }
  },
  "nbformat": 4,
  "nbformat_minor": 0
}
